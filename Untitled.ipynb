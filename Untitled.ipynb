{
 "cells": [
  {
   "cell_type": "code",
   "execution_count": 46,
   "id": "f0362dc5",
   "metadata": {},
   "outputs": [],
   "source": [
    "import numpy as np\n",
    "import pandas as pd\n",
    "from pandas import DataFrame\n",
    "import matplotlib.pyplot as plt\n",
    "import matplotlib\n",
    "import seaborn as sns\n",
    "import squarify\n",
    "matplotlib.rcParams['axes.unicode_minus'] = False\n",
    "matplotlib.rcParams['font.family'] = \"AppleGothic\""
   ]
  },
  {
   "cell_type": "code",
   "execution_count": 63,
   "id": "00aa112d",
   "metadata": {},
   "outputs": [],
   "source": [
    "df = {'기업명' : ['LG엔솔', 'SK하이닉스', '현대차', '크래프톤', '셀트리온', '카카오'],\n",
    "      '시가총액': [110, 70, 35, 8, 24, 22], #100원\n",
    "      '종가': [483000/5, 95500/5000, 167000/5000, 182000, 174000/1000, 514000 ],\n",
    "      '외국인비율': [4, 50, 28, 30, 21, 28]}"
   ]
  },
  {
   "cell_type": "code",
   "execution_count": 64,
   "id": "d24c08df",
   "metadata": {},
   "outputs": [
    {
     "data": {
      "text/html": [
       "<div>\n",
       "<style scoped>\n",
       "    .dataframe tbody tr th:only-of-type {\n",
       "        vertical-align: middle;\n",
       "    }\n",
       "\n",
       "    .dataframe tbody tr th {\n",
       "        vertical-align: top;\n",
       "    }\n",
       "\n",
       "    .dataframe thead th {\n",
       "        text-align: right;\n",
       "    }\n",
       "</style>\n",
       "<table border=\"1\" class=\"dataframe\">\n",
       "  <thead>\n",
       "    <tr style=\"text-align: right;\">\n",
       "      <th></th>\n",
       "      <th>기업명</th>\n",
       "      <th>시가총액</th>\n",
       "      <th>종가</th>\n",
       "      <th>외국인비율</th>\n",
       "    </tr>\n",
       "  </thead>\n",
       "  <tbody>\n",
       "    <tr>\n",
       "      <th>0</th>\n",
       "      <td>LG엔솔</td>\n",
       "      <td>110</td>\n",
       "      <td>96600.0</td>\n",
       "      <td>4</td>\n",
       "    </tr>\n",
       "    <tr>\n",
       "      <th>1</th>\n",
       "      <td>SK하이닉스</td>\n",
       "      <td>70</td>\n",
       "      <td>19.1</td>\n",
       "      <td>50</td>\n",
       "    </tr>\n",
       "    <tr>\n",
       "      <th>2</th>\n",
       "      <td>현대차</td>\n",
       "      <td>35</td>\n",
       "      <td>33.4</td>\n",
       "      <td>28</td>\n",
       "    </tr>\n",
       "    <tr>\n",
       "      <th>3</th>\n",
       "      <td>크래프톤</td>\n",
       "      <td>8</td>\n",
       "      <td>182000.0</td>\n",
       "      <td>30</td>\n",
       "    </tr>\n",
       "    <tr>\n",
       "      <th>4</th>\n",
       "      <td>셀트리온</td>\n",
       "      <td>24</td>\n",
       "      <td>174.0</td>\n",
       "      <td>21</td>\n",
       "    </tr>\n",
       "    <tr>\n",
       "      <th>5</th>\n",
       "      <td>카카오</td>\n",
       "      <td>22</td>\n",
       "      <td>514000.0</td>\n",
       "      <td>28</td>\n",
       "    </tr>\n",
       "  </tbody>\n",
       "</table>\n",
       "</div>"
      ],
      "text/plain": [
       "      기업명  시가총액        종가  외국인비율\n",
       "0    LG엔솔   110   96600.0      4\n",
       "1  SK하이닉스    70      19.1     50\n",
       "2     현대차    35      33.4     28\n",
       "3    크래프톤     8  182000.0     30\n",
       "4    셀트리온    24     174.0     21\n",
       "5     카카오    22  514000.0     28"
      ]
     },
     "execution_count": 64,
     "metadata": {},
     "output_type": "execute_result"
    }
   ],
   "source": [
    "pd.DataFrame(df)"
   ]
  },
  {
   "cell_type": "code",
   "execution_count": 67,
   "id": "32d98128",
   "metadata": {},
   "outputs": [
    {
     "data": {
      "text/plain": [
       "<matplotlib.collections.PathCollection at 0x126115dc0>"
      ]
     },
     "execution_count": 67,
     "metadata": {},
     "output_type": "execute_result"
    },
    {
     "data": {
      "image/png": "[encoded data removed]",
      "text/plain": [
       "<Figure size 640x480 with 1 Axes>"
      ]
     },
     "metadata": {},
     "output_type": "display_data"
    }
   ],
   "source": [
    "x = list(df['종가'])\n",
    "y = list(df['외국인비율'])\n",
    "         \n",
    "s = list(df['시가총액'])\n",
    "#s = [i*0.1for i in size]\n",
    "plt.scatter(x,y,s = s)"
   ]
  },
  {
   "cell_type": "code",
   "execution_count": null,
   "id": "77546bc0",
   "metadata": {},
   "outputs": [],
   "source": []
  },
  {
   "cell_type": "code",
   "execution_count": null,
   "id": "b4013094",
   "metadata": {},
   "outputs": [],
   "source": []
  }
 ],
 "metadata": {
  "kernelspec": {
   "display_name": "PY3.9.4-python_trash",
   "language": "python",
   "name": "python_trash"
  },
  "language_info": {
   "codemirror_mode": {
    "name": "ipython",
    "version": 3
   },
   "file_extension": ".py",
   "mimetype": "text/x-python",
   "name": "python",
   "nbconvert_exporter": "python",
   "pygments_lexer": "ipython3",
   "version": "3.9.4"
  }
 },
 "nbformat": 4,
 "nbformat_minor": 5
}
