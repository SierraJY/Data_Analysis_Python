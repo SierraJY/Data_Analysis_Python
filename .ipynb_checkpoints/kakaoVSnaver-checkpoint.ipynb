{
 "cells": [
  {
   "cell_type": "code",
   "execution_count": null,
   "id": "11ca4fbb",
   "metadata": {},
   "outputs": [],
   "source": [
    "import numpy as np\n",
    "import pandas as pd\n",
    "import matplotlib.pyplot as plt\n",
    "import matplotlib\n",
    "import seaborn as sns\n",
    "matplotlib.rcParams['axes.unicode_minus'] = False\n",
    "matplotlib.rcParams['font.family'] = \"AppleGothic\""
   ]
  },
  {
   "cell_type": "code",
   "execution_count": null,
   "id": "7ee6ca2e",
   "metadata": {},
   "outputs": [],
   "source": [
    "kakao = pd.read_csv(\"/Users/bagjuyeon/Desktop/python_trash/data_5437_20221105.csv\", encoding = \"CP949\")\n",
    "naver = pd.read_csv(\"/Users/bagjuyeon/Desktop/python_trash/data_2917_20221105.csv\", encoding = \" CP949\")"
   ]
  },
  {
   "cell_type": "code",
   "execution_count": null,
   "id": "6d29e7d5",
   "metadata": {},
   "outputs": [],
   "source": [
    "kakao = kakao['종가']\n",
    "kakao_p = list(kakao)\n",
    "\n",
    "naver = naver['종가']\n",
    "naver_p = list(naver)\n",
    "\n",
    "price = [i for i in range(50000,450001)]\n",
    "ticks = ['5만원','10만원','15만원','20만원','25만원','30만원','35만원','40만원','45만원']\n",
    "print(price)"
   ]
  },
  {
   "cell_type": "code",
   "execution_count": null,
   "id": "a70b3406",
   "metadata": {},
   "outputs": [],
   "source": [
    "plt.title(\"네이버/카카오 주가 분포\")\n",
    "sns.kdeplot(x=kakao_p, fill = True, bw_method = .15, color = \"yellow\", label =\"카카오\")\n",
    "sns.kdeplot(x=naver_p, fill = True, bw_method = .15, color = \"lime\", label =\"네이버\")\n",
    "plt.xticks(price,ticks)"
   ]
  },
  {
   "cell_type": "code",
   "execution_count": null,
   "id": "f276fa2f",
   "metadata": {},
   "outputs": [],
   "source": []
  }
 ],
 "metadata": {
  "kernelspec": {
   "display_name": "PY3.9.4-python_trash",
   "language": "python",
   "name": "python_trash"
  },
  "language_info": {
   "codemirror_mode": {
    "name": "ipython",
    "version": 3
   },
   "file_extension": ".py",
   "mimetype": "text/x-python",
   "name": "python",
   "nbconvert_exporter": "python",
   "pygments_lexer": "ipython3",
   "version": "3.9.4"
  }
 },
 "nbformat": 4,
 "nbformat_minor": 5
}
