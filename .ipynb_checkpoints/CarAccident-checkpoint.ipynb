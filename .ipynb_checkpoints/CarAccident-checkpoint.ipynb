{
 "cells": [
  {
   "cell_type": "code",
   "execution_count": 43,
   "id": "c21549a0",
   "metadata": {},
   "outputs": [],
   "source": [
    "import pandas as pd"
   ]
  },
  {
   "cell_type": "code",
   "execution_count": 44,
   "id": "0e2b19fd",
   "metadata": {},
   "outputs": [],
   "source": [
    "df = pd.read_csv('/Users/bagjuyeon/Desktop/python_trash/CarAccident.csv', encoding = 'CP949')"
   ]
  },
  {
   "cell_type": "code",
   "execution_count": 45,
   "id": "c909becc",
   "metadata": {},
   "outputs": [],
   "source": [
    "df = df.iloc[:,0:5]"
   ]
  },
  {
   "cell_type": "code",
   "execution_count": 46,
   "id": "d5ad2947",
   "metadata": {},
   "outputs": [
    {
     "name": "stdout",
     "output_type": "stream",
     "text": [
      "    발생년    사고건수  사망자수   중상자수    경상자수\n",
      "0  2017  216335  4185  78212  223200\n",
      "1  2018  217148  3781  74258  227511\n",
      "2  2019  229600  3349  72306  245524\n",
      "3  2020  209654  3081  60564  226036\n",
      "4  2021  203130  2916  55905  219283\n"
     ]
    }
   ],
   "source": [
    "print(df)"
   ]
  },
  {
   "cell_type": "code",
   "execution_count": null,
   "id": "1b955655",
   "metadata": {},
   "outputs": [],
   "source": []
  }
 ],
 "metadata": {
  "kernelspec": {
   "display_name": "PY3.9.4-python_trash",
   "language": "python",
   "name": "python_trash"
  },
  "language_info": {
   "codemirror_mode": {
    "name": "ipython",
    "version": 3
   },
   "file_extension": ".py",
   "mimetype": "text/x-python",
   "name": "python",
   "nbconvert_exporter": "python",
   "pygments_lexer": "ipython3",
   "version": "3.9.4"
  }
 },
 "nbformat": 4,
 "nbformat_minor": 5
}
