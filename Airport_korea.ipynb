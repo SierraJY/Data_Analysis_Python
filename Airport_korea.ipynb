{
 "cells": [
  {
   "cell_type": "code",
   "execution_count": 48,
   "id": "2b3ab1a5",
   "metadata": {},
   "outputs": [],
   "source": [
    "import numpy as np\n",
    "import pandas as pd\n",
    "import matplotlib\n",
    "import matplotlib.pyplot as plt\n",
    "import seaborn as sns\n",
    "matplotlib.rcParams['axes.unicode_minus'] = False\n",
    "matplotlib.rcParams['font.family'] = \"AppleGothic\"\n",
    "ㅇ"
   ]
  },
  {
   "cell_type": "code",
   "execution_count": 49,
   "id": "659bf08c",
   "metadata": {},
   "outputs": [
    {
     "name": "stdout",
     "output_type": "stream",
     "text": [
      "      연도  공항   노선     시간   출발여객수   도착여객수\n",
      "0   2022  김포  국내선   6:00  420361       0\n",
      "1   2022  김포  국내선   7:00  603835  116405\n",
      "2   2022  김포  국내선   8:00  636790  267101\n",
      "3   2022  김포  국내선   9:00  646718  350940\n",
      "4   2022  김포  국내선  10:00  497806  430212\n",
      "..   ...  ..  ...    ...     ...     ...\n",
      "56  2022  양양  국내선   8:00   12666       0\n",
      "57  2022  양양  국내선   9:00   27147    2997\n",
      "58  2022  양양  국내선  10:00    2627    7834\n",
      "59  2022  양양  국내선  11:00     302    8866\n",
      "60  2022  양양  국내선  12:00    5036   25575\n",
      "\n",
      "[61 rows x 6 columns]\n"
     ]
    }
   ],
   "source": [
    "df = pd.read_csv(\"/Users/bagjuyeon/Desktop/python_trash/airport.csv\", encoding = \"CP949\")\n",
    "print(df)"
   ]
  },
  {
   "cell_type": "code",
   "execution_count": 52,
   "id": "559b19cd",
   "metadata": {},
   "outputs": [
    {
     "name": "stdout",
     "output_type": "stream",
     "text": [
      "      출발여객수    도착여객수\n",
      "공항                  \n",
      "김포  3845471  2376985\n",
      "김해  1236770  1057986\n",
      "대구   390939   150219\n",
      "양양    49729    45272\n",
      "제주  3277586  4348766\n",
      "청주   543119   286168\n"
     ]
    }
   ],
   "source": [
    "df = df.groupby(\"공항\").agg({'출발여객수':sum, '도착여객수':sum})\n",
    "df = df.drop(df.index[3])\n",
    "print(df)"
   ]
  },
  {
   "cell_type": "code",
   "execution_count": 53,
   "id": "6cc49930",
   "metadata": {},
   "outputs": [
    {
     "name": "stdout",
     "output_type": "stream",
     "text": [
      "[6222456, 2294756, 541158, 95001, 7626352, 829287]\n"
     ]
    }
   ],
   "source": [
    "total = []\n",
    "for i in range (0,6):\n",
    "    total.append(df.iloc[i,].sum())\n",
    "print(total)"
   ]
  },
  {
   "cell_type": "code",
   "execution_count": 54,
   "id": "8ef11a8e",
   "metadata": {},
   "outputs": [
    {
     "name": "stdout",
     "output_type": "stream",
     "text": [
      "['김포', '김해', '대구', '양양', '제주', '청주']\n"
     ]
    }
   ],
   "source": [
    "labels = list(df.index)\n",
    "print(labels)"
   ]
  },
  {
   "cell_type": "code",
   "execution_count": 62,
   "id": "b605be5c",
   "metadata": {},
   "outputs": [],
   "source": [
    "colors = ['lightgreen', 'cornflowerblue', 'mediumpurple', 'lightcoral', 'orange', '#e35f62']"
   ]
  },
  {
   "cell_type": "code",
   "execution_count": 65,
   "id": "adc900b8",
   "metadata": {},
   "outputs": [
    {
     "data": {
      "image/png": "[encoded data removed]",
      "text/plain": [
       "<Figure size 640x480 with 1 Axes>"
      ]
     },
     "metadata": {},
     "output_type": "display_data"
    }
   ],
   "source": [
    "squarify.plot(total, label=labels,color = colors, bar_kwargs=dict(linewidth=3, edgecolor=\"#eee\"))\n",
    "plt.axis('off')\n",
    "plt.title(\"<한국공항공사의 지역별 공항 실적>\")\n",
    "plt.show()"
   ]
  },
  {
   "cell_type": "raw",
   "id": "655bc63e",
   "metadata": {},
   "source": []
  },
  {
   "cell_type": "code",
   "execution_count": null,
   "id": "fd4f279c",
   "metadata": {},
   "outputs": [],
   "source": []
  }
 ],
 "metadata": {
  "kernelspec": {
   "display_name": "PY3.9.4-python_trash",
   "language": "python",
   "name": "python_trash"
  },
  "language_info": {
   "codemirror_mode": {
    "name": "ipython",
    "version": 3
   },
   "file_extension": ".py",
   "mimetype": "text/x-python",
   "name": "python",
   "nbconvert_exporter": "python",
   "pygments_lexer": "ipython3",
   "version": "3.9.4"
  }
 },
 "nbformat": 4,
 "nbformat_minor": 5
}
