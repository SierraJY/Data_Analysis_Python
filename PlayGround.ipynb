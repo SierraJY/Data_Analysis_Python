{
 "cells": [
  {
   "cell_type": "code",
   "execution_count": 24,
   "id": "a6bf175a",
   "metadata": {},
   "outputs": [],
   "source": [
    "import pandas as pd"
   ]
  },
  {
   "cell_type": "code",
   "execution_count": 25,
   "id": "817d5bd3",
   "metadata": {},
   "outputs": [
    {
     "name": "stdout",
     "output_type": "stream",
     "text": [
      "      국적    2010년 10월    2010년 11월    2010년 12월\n",
      "0    내국인  28145222110  28197671200  22848639210\n",
      "1    일본인     25086510     15624830      9297440\n",
      "2    중국인    218886260    119056820     65382770\n",
      "3     기타     93695190     91775030     86774040\n",
      "4     대만     11623110      9741120      8678710\n",
      "5    미국인     77368430     36427060     29399620\n",
      "6   러시아인      7796340      4617800      4101630\n",
      "7    태국인      3294360       602380       902910\n",
      "8    홍콩인      4494030      2372030      1424950\n",
      "9   필리핀인      2593010      1204700       757190\n",
      "10  해외교포     24258670     19307540     21063780\n"
     ]
    }
   ],
   "source": [
    "df = pd.read_csv('/Users/bagjuyeon/Desktop/python_trash/DutyFreeNation.csv', encoding='CP949')\n",
    "\n",
    "print(df)"
   ]
  },
  {
   "cell_type": "code",
   "execution_count": 26,
   "id": "f2a017b2",
   "metadata": {},
   "outputs": [],
   "source": [
    "df = df.reindex(['국적','2010년 12월', '2010년 11월', '2010년 10월'], axis = 1)"
   ]
  },
  {
   "cell_type": "code",
   "execution_count": 27,
   "id": "5f039983",
   "metadata": {},
   "outputs": [
    {
     "name": "stdout",
     "output_type": "stream",
     "text": [
      "      국적    2010년 12월    2010년 11월    2010년 10월\n",
      "0    내국인  22848639210  28197671200  28145222110\n",
      "1    일본인      9297440     15624830     25086510\n",
      "2    중국인     65382770    119056820    218886260\n",
      "3     기타     86774040     91775030     93695190\n",
      "4     대만      8678710      9741120     11623110\n",
      "5    미국인     29399620     36427060     77368430\n",
      "6   러시아인      4101630      4617800      7796340\n",
      "7    태국인       902910       602380      3294360\n",
      "8    홍콩인      1424950      2372030      4494030\n",
      "9   필리핀인       757190      1204700      2593010\n",
      "10  해외교포     21063780     19307540     24258670\n"
     ]
    }
   ],
   "source": [
    "print(df)"
   ]
  },
  {
   "cell_type": "code",
   "execution_count": null,
   "id": "90875dda",
   "metadata": {},
   "outputs": [],
   "source": []
  }
 ],
 "metadata": {
  "kernelspec": {
   "display_name": "PY3.9.4-python_trash",
   "language": "python",
   "name": "python_trash"
  },
  "language_info": {
   "codemirror_mode": {
    "name": "ipython",
    "version": 3
   },
   "file_extension": ".py",
   "mimetype": "text/x-python",
   "name": "python",
   "nbconvert_exporter": "python",
   "pygments_lexer": "ipython3",
   "version": "3.9.4"
  }
 },
 "nbformat": 4,
 "nbformat_minor": 5
}
